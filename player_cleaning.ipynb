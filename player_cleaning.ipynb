{
 "cells": [
  {
   "cell_type": "code",
   "execution_count": 1,
   "metadata": {},
   "outputs": [],
   "source": [
    "import pandas as pd\n",
    "import numpy as np"
   ]
  },
  {
   "cell_type": "code",
   "execution_count": 2,
   "metadata": {},
   "outputs": [],
   "source": [
    "df = pd.read_csv('all_player_info.csv')"
   ]
  },
  {
   "cell_type": "code",
   "execution_count": 4,
   "metadata": {},
   "outputs": [
    {
     "data": {
      "text/html": [
       "<div>\n",
       "<style scoped>\n",
       "    .dataframe tbody tr th:only-of-type {\n",
       "        vertical-align: middle;\n",
       "    }\n",
       "\n",
       "    .dataframe tbody tr th {\n",
       "        vertical-align: top;\n",
       "    }\n",
       "\n",
       "    .dataframe thead th {\n",
       "        text-align: right;\n",
       "    }\n",
       "</style>\n",
       "<table border=\"1\" class=\"dataframe\">\n",
       "  <thead>\n",
       "    <tr style=\"text-align: right;\">\n",
       "      <th></th>\n",
       "      <th>Player name</th>\n",
       "      <th>DOB</th>\n",
       "      <th>birth_place</th>\n",
       "      <th>height</th>\n",
       "      <th>position</th>\n",
       "      <th>current_team</th>\n",
       "      <th>number</th>\n",
       "      <th>senior_career</th>\n",
       "      <th>international_career</th>\n",
       "      <th>awards</th>\n",
       "    </tr>\n",
       "  </thead>\n",
       "  <tbody>\n",
       "    <tr>\n",
       "      <th>0</th>\n",
       "      <td>Ángel Luis Bossio</td>\n",
       "      <td>(1905-05-05)5 May 1905</td>\n",
       "      <td>Buenos Aires, Argentina</td>\n",
       "      <td>1.78 m (5 ft 10 in)</td>\n",
       "      <td>Goalkeeper</td>\n",
       "      <td>NaN</td>\n",
       "      <td>NaN</td>\n",
       "      <td>Years?Team?Apps?(Gls) | 1927–32?Talleres?? | 1...</td>\n",
       "      <td>1927–1935?Argentina?21?(0) | Managerial career...</td>\n",
       "      <td>NaN</td>\n",
       "    </tr>\n",
       "    <tr>\n",
       "      <th>1</th>\n",
       "      <td>Juan Botasso</td>\n",
       "      <td>(1908-10-23)23 October 1908</td>\n",
       "      <td>Quilmes, Argentina</td>\n",
       "      <td>1.69 m (5 ft 7 in)</td>\n",
       "      <td>Goalkeeper</td>\n",
       "      <td>NaN</td>\n",
       "      <td>NaN</td>\n",
       "      <td>Years?Team?Apps?(Gls) | 1927–1930?Argentino de...</td>\n",
       "      <td>1929–1930?Argentina?9?(0)</td>\n",
       "      <td>NaN</td>\n",
       "    </tr>\n",
       "    <tr>\n",
       "      <th>2</th>\n",
       "      <td>Roberto Eugenio Cerro</td>\n",
       "      <td>(1907-02-23)23 February 1907</td>\n",
       "      <td>Barracas, Argentina</td>\n",
       "      <td>NaN</td>\n",
       "      <td>Striker</td>\n",
       "      <td>NaN</td>\n",
       "      <td>NaN</td>\n",
       "      <td>Years?Team?Apps?(Gls) | 1924?Sportivo Barracas...</td>\n",
       "      <td>1926–1937?Argentina?16?(13)</td>\n",
       "      <td>NaN</td>\n",
       "    </tr>\n",
       "    <tr>\n",
       "      <th>3</th>\n",
       "      <td>Alberto Rodolfo Chividini</td>\n",
       "      <td>(1907-02-23)23 February 1907</td>\n",
       "      <td>Buenos Aires, Argentina</td>\n",
       "      <td>1.81 m (5 ft 11+1⁄2 in)</td>\n",
       "      <td>Defender</td>\n",
       "      <td>NaN</td>\n",
       "      <td>NaN</td>\n",
       "      <td>Years?Team?Apps?(Gls) | 1928–1929?Central Nort...</td>\n",
       "      <td>1928–1930?Argentina?3?(0) | Managerial career?...</td>\n",
       "      <td>NaN</td>\n",
       "    </tr>\n",
       "    <tr>\n",
       "      <th>4</th>\n",
       "      <td>Atilio José Demaría</td>\n",
       "      <td>19 March 1909</td>\n",
       "      <td>Buenos Aires, Argentina</td>\n",
       "      <td>NaN</td>\n",
       "      <td>Striker</td>\n",
       "      <td>NaN</td>\n",
       "      <td>NaN</td>\n",
       "      <td>Years?Team?Apps?(Gls) | 1926–1931?Estudiantil ...</td>\n",
       "      <td>1930–1931?Argentina?3?(0) | 1932–1940?Italy?13...</td>\n",
       "      <td>NaN</td>\n",
       "    </tr>\n",
       "  </tbody>\n",
       "</table>\n",
       "</div>"
      ],
      "text/plain": [
       "                 Player name                           DOB  \\\n",
       "0          Ángel Luis Bossio        (1905-05-05)5 May 1905   \n",
       "1               Juan Botasso   (1908-10-23)23 October 1908   \n",
       "2      Roberto Eugenio Cerro  (1907-02-23)23 February 1907   \n",
       "3  Alberto Rodolfo Chividini  (1907-02-23)23 February 1907   \n",
       "4        Atilio José Demaría                 19 March 1909   \n",
       "\n",
       "               birth_place                   height    position current_team  \\\n",
       "0  Buenos Aires, Argentina      1.78 m (5 ft 10 in)  Goalkeeper          NaN   \n",
       "1       Quilmes, Argentina       1.69 m (5 ft 7 in)  Goalkeeper          NaN   \n",
       "2      Barracas, Argentina                      NaN     Striker          NaN   \n",
       "3  Buenos Aires, Argentina  1.81 m (5 ft 11+1⁄2 in)    Defender          NaN   \n",
       "4  Buenos Aires, Argentina                      NaN     Striker          NaN   \n",
       "\n",
       "  number                                      senior_career  \\\n",
       "0    NaN  Years?Team?Apps?(Gls) | 1927–32?Talleres?? | 1...   \n",
       "1    NaN  Years?Team?Apps?(Gls) | 1927–1930?Argentino de...   \n",
       "2    NaN  Years?Team?Apps?(Gls) | 1924?Sportivo Barracas...   \n",
       "3    NaN  Years?Team?Apps?(Gls) | 1928–1929?Central Nort...   \n",
       "4    NaN  Years?Team?Apps?(Gls) | 1926–1931?Estudiantil ...   \n",
       "\n",
       "                                international_career awards  \n",
       "0  1927–1935?Argentina?21?(0) | Managerial career...    NaN  \n",
       "1                          1929–1930?Argentina?9?(0)    NaN  \n",
       "2                        1926–1937?Argentina?16?(13)    NaN  \n",
       "3  1928–1930?Argentina?3?(0) | Managerial career?...    NaN  \n",
       "4  1930–1931?Argentina?3?(0) | 1932–1940?Italy?13...    NaN  "
      ]
     },
     "execution_count": 4,
     "metadata": {},
     "output_type": "execute_result"
    }
   ],
   "source": [
    "df.head()"
   ]
  },
  {
   "cell_type": "code",
   "execution_count": 5,
   "metadata": {},
   "outputs": [
    {
     "name": "stdout",
     "output_type": "stream",
     "text": [
      "<class 'pandas.core.frame.DataFrame'>\n",
      "RangeIndex: 8399 entries, 0 to 8398\n",
      "Data columns (total 10 columns):\n",
      " #   Column                Non-Null Count  Dtype \n",
      "---  ------                --------------  ----- \n",
      " 0   Player name           8399 non-null   object\n",
      " 1   DOB                   7396 non-null   object\n",
      " 2   birth_place           7365 non-null   object\n",
      " 3   height                5867 non-null   object\n",
      " 4   position              7393 non-null   object\n",
      " 5   current_team          1806 non-null   object\n",
      " 6   number                1188 non-null   object\n",
      " 7   senior_career         7358 non-null   object\n",
      " 8   international_career  7309 non-null   object\n",
      " 9   awards                2419 non-null   object\n",
      "dtypes: object(10)\n",
      "memory usage: 656.3+ KB\n"
     ]
    }
   ],
   "source": [
    "df.info()"
   ]
  },
  {
   "cell_type": "code",
   "execution_count": 8,
   "metadata": {},
   "outputs": [
    {
     "data": {
      "text/html": [
       "<div>\n",
       "<style scoped>\n",
       "    .dataframe tbody tr th:only-of-type {\n",
       "        vertical-align: middle;\n",
       "    }\n",
       "\n",
       "    .dataframe tbody tr th {\n",
       "        vertical-align: top;\n",
       "    }\n",
       "\n",
       "    .dataframe thead th {\n",
       "        text-align: right;\n",
       "    }\n",
       "</style>\n",
       "<table border=\"1\" class=\"dataframe\">\n",
       "  <thead>\n",
       "    <tr style=\"text-align: right;\">\n",
       "      <th></th>\n",
       "      <th>Player name</th>\n",
       "      <th>DOB</th>\n",
       "      <th>birth_place</th>\n",
       "      <th>height</th>\n",
       "      <th>position</th>\n",
       "      <th>current_team</th>\n",
       "      <th>number</th>\n",
       "      <th>senior_career</th>\n",
       "      <th>international_career</th>\n",
       "      <th>awards</th>\n",
       "    </tr>\n",
       "  </thead>\n",
       "  <tbody>\n",
       "  </tbody>\n",
       "</table>\n",
       "</div>"
      ],
      "text/plain": [
       "Empty DataFrame\n",
       "Columns: [Player name, DOB, birth_place, height, position, current_team, number, senior_career, international_career, awards]\n",
       "Index: []"
      ]
     },
     "execution_count": 8,
     "metadata": {},
     "output_type": "execute_result"
    }
   ],
   "source": [
    "df[df['Player name'].isna()]"
   ]
  },
  {
   "cell_type": "code",
   "execution_count": 11,
   "metadata": {},
   "outputs": [],
   "source": [
    "tempdf = df[df['DOB'].isna()]"
   ]
  },
  {
   "cell_type": "code",
   "execution_count": 12,
   "metadata": {},
   "outputs": [],
   "source": [
    "df.drop(index=tempdf.index, inplace=True)"
   ]
  },
  {
   "cell_type": "code",
   "execution_count": 39,
   "metadata": {},
   "outputs": [
    {
     "name": "stdout",
     "output_type": "stream",
     "text": [
      "<class 'pandas.core.frame.DataFrame'>\n",
      "Index: 7396 entries, 0 to 8397\n",
      "Data columns (total 10 columns):\n",
      " #   Column                Non-Null Count  Dtype \n",
      "---  ------                --------------  ----- \n",
      " 0   Player name           7396 non-null   object\n",
      " 1   DOB                   7396 non-null   object\n",
      " 2   birth_place           7396 non-null   object\n",
      " 3   height                7396 non-null   object\n",
      " 4   position              7396 non-null   object\n",
      " 5   current_team          7396 non-null   object\n",
      " 6   number                1188 non-null   object\n",
      " 7   senior_career         7295 non-null   object\n",
      " 8   international_career  7246 non-null   object\n",
      " 9   awards                2393 non-null   object\n",
      "dtypes: object(10)\n",
      "memory usage: 893.6+ KB\n"
     ]
    }
   ],
   "source": [
    "df.info()"
   ]
  },
  {
   "cell_type": "code",
   "execution_count": 16,
   "metadata": {},
   "outputs": [],
   "source": [
    "tempdf = df[df['birth_place'].isna()]"
   ]
  },
  {
   "cell_type": "code",
   "execution_count": 21,
   "metadata": {},
   "outputs": [
    {
     "data": {
      "text/plain": [
       "Index([ 279,  372,  519,  522,  523,  524,  529,  534,  599,  626,  629,  630,\n",
       "        638,  639,  642,  643,  644,  698,  700,  728,  737,  741,  745,  825,\n",
       "        827,  877,  925,  926,  927, 1042, 1056, 1263, 1269, 1271, 1709, 1756,\n",
       "       1981, 2282, 2303, 2334, 2416, 2480, 2492, 2571, 2703, 4092, 4096, 4097,\n",
       "       4162, 4206, 4208, 4331, 4631, 6116, 7597],\n",
       "      dtype='int64')"
      ]
     },
     "execution_count": 21,
     "metadata": {},
     "output_type": "execute_result"
    }
   ],
   "source": [
    "tempdf.index"
   ]
  },
  {
   "cell_type": "code",
   "execution_count": 22,
   "metadata": {},
   "outputs": [],
   "source": [
    "df.loc[tempdf.index , 'birth_place'] = \"Not Available\""
   ]
  },
  {
   "cell_type": "code",
   "execution_count": 23,
   "metadata": {},
   "outputs": [
    {
     "data": {
      "text/html": [
       "<div>\n",
       "<style scoped>\n",
       "    .dataframe tbody tr th:only-of-type {\n",
       "        vertical-align: middle;\n",
       "    }\n",
       "\n",
       "    .dataframe tbody tr th {\n",
       "        vertical-align: top;\n",
       "    }\n",
       "\n",
       "    .dataframe thead th {\n",
       "        text-align: right;\n",
       "    }\n",
       "</style>\n",
       "<table border=\"1\" class=\"dataframe\">\n",
       "  <thead>\n",
       "    <tr style=\"text-align: right;\">\n",
       "      <th></th>\n",
       "      <th>Player name</th>\n",
       "      <th>DOB</th>\n",
       "      <th>birth_place</th>\n",
       "      <th>height</th>\n",
       "      <th>position</th>\n",
       "      <th>current_team</th>\n",
       "      <th>number</th>\n",
       "      <th>senior_career</th>\n",
       "      <th>international_career</th>\n",
       "      <th>awards</th>\n",
       "    </tr>\n",
       "  </thead>\n",
       "  <tbody>\n",
       "  </tbody>\n",
       "</table>\n",
       "</div>"
      ],
      "text/plain": [
       "Empty DataFrame\n",
       "Columns: [Player name, DOB, birth_place, height, position, current_team, number, senior_career, international_career, awards]\n",
       "Index: []"
      ]
     },
     "execution_count": 23,
     "metadata": {},
     "output_type": "execute_result"
    }
   ],
   "source": [
    "df[df['birth_place'].isna()]"
   ]
  },
  {
   "cell_type": "code",
   "execution_count": 27,
   "metadata": {},
   "outputs": [],
   "source": [
    "tempdf = df[df['height'].isna()]"
   ]
  },
  {
   "cell_type": "code",
   "execution_count": 28,
   "metadata": {},
   "outputs": [],
   "source": [
    "df.loc[tempdf.index, 'height'] = 'Not available'"
   ]
  },
  {
   "cell_type": "code",
   "execution_count": 31,
   "metadata": {},
   "outputs": [],
   "source": [
    "tempdf = df[df['position'].isna()]"
   ]
  },
  {
   "cell_type": "code",
   "execution_count": 32,
   "metadata": {},
   "outputs": [],
   "source": [
    "df.loc[tempdf.index, 'position'] = 'Not available'"
   ]
  },
  {
   "cell_type": "code",
   "execution_count": 36,
   "metadata": {},
   "outputs": [],
   "source": [
    "tempdf = df[df['current_team'].isna()]"
   ]
  },
  {
   "cell_type": "code",
   "execution_count": 38,
   "metadata": {},
   "outputs": [],
   "source": [
    "df.loc[tempdf.index, 'current_team'] = 'retired'"
   ]
  },
  {
   "cell_type": "code",
   "execution_count": null,
   "metadata": {},
   "outputs": [],
   "source": []
  }
 ],
 "metadata": {
  "kernelspec": {
   "display_name": "Python 3",
   "language": "python",
   "name": "python3"
  },
  "language_info": {
   "codemirror_mode": {
    "name": "ipython",
    "version": 3
   },
   "file_extension": ".py",
   "mimetype": "text/x-python",
   "name": "python",
   "nbconvert_exporter": "python",
   "pygments_lexer": "ipython3",
   "version": "3.12.1"
  }
 },
 "nbformat": 4,
 "nbformat_minor": 2
}
