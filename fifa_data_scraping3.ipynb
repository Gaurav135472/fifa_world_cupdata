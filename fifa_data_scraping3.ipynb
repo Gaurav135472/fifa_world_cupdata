{
 "cells": [
  {
   "cell_type": "code",
   "execution_count": 7,
   "metadata": {},
   "outputs": [],
   "source": [
    "import requests\n",
    "from bs4 import BeautifulSoup\n",
    "import pandas as pd\n",
    "import time"
   ]
  },
  {
   "cell_type": "code",
   "execution_count": 22,
   "metadata": {},
   "outputs": [
    {
     "name": "stdout",
     "output_type": "stream",
     "text": [
      "Scraping data for the year: 1930\n",
      "Scraping data for the year: 1934\n",
      "Scraping data for the year: 1938\n",
      "Scraping data for the year: 1950\n",
      "Scraping data for the year: 1954\n",
      "Scraping data for the year: 1958\n",
      "Scraping data for the year: 1962\n",
      "Scraping data for the year: 1966\n",
      "Scraping data for the year: 1970\n",
      "Scraping data for the year: 1974\n",
      "Scraping data for the year: 1978\n",
      "Scraping data for the year: 1982\n",
      "Scraping data for the year: 1986\n",
      "Scraping data for the year: 1990\n",
      "Scraping data for the year: 1994\n",
      "Scraping data for the year: 1998\n",
      "Scraping data for the year: 2002\n",
      "Scraping data for the year: 2006\n",
      "Scraping data for the year: 2010\n",
      "Scraping data for the year: 2014\n",
      "Scraping data for the year: 2018\n",
      "Scraping data for the year: 2022\n",
      "Data scraping completed and saved to 'world_cup_players_all_years.csv'\n"
     ]
    }
   ],
   "source": [
    "# List of years for which we want to scrape data\n",
    "years = [1930, 1934, 1938, 1950, 1954, 1958, 1962, 1966, 1970, 1974, 1978, \n",
    "         1982, 1986, 1990, 1994, 1998, 2002, 2006, 2010, 2014, 2018, 2022]\n",
    "\n",
    "# Base URL for Wikipedia squad pages\n",
    "base_url = \"https://en.wikipedia.org/wiki/{}_FIFA_World_Cup_squads\"\n",
    "\n",
    "# Data storage\n",
    "all_player_data = []\n",
    "\n",
    "for year in years:\n",
    "    # Construct the URL for each year\n",
    "    url = base_url.format(year)\n",
    "    print(f\"Scraping data for the year: {year}\")\n",
    "    \n",
    "    # Fetch and parse the page\n",
    "    response = requests.get(url)\n",
    "    if response.status_code != 200:\n",
    "        print(f\"Failed to retrieve data for {year}. Status code: {response.status_code}\")\n",
    "        continue\n",
    "    soup = BeautifulSoup(response.text, 'html.parser')\n",
    "    \n",
    "    # Find all squad tables\n",
    "    tables = soup.find_all(\"table\", {\"class\": \"wikitable\"})\n",
    "    \n",
    "    for table in tables:\n",
    "        rows = table.find_all(\"tr\")\n",
    "        \n",
    "        for row in rows[1:]:  # Skip header\n",
    "            cols = row.find_all(\"td\")\n",
    "            if len(cols) > 3:\n",
    "                # Extract player data with the year included\n",
    "                player = {\n",
    "                    \"Year\": year,  # Add year field\n",
    "                    \"Name\": cols[0].text.strip(),\n",
    "                    \"Position\": cols[1].text.strip(),\n",
    "                    \"Date of Birth\": cols[2].text.strip() if len(cols) > 2 else \"N/A\",\n",
    "                    \"Caps\": cols[3].text.strip() if len(cols) > 3 else \"N/A\",\n",
    "                    \"Club\": cols[4].text.strip() if len(cols) > 4 else \"N/A\"\n",
    "                }\n",
    "                all_player_data.append(player)\n",
    "    \n",
    "    # Pause between requests to avoid overwhelming the server\n",
    "    time.sleep(1)\n",
    "\n",
    "# Convert to DataFrame\n",
    "df = pd.DataFrame(all_player_data)\n",
    "\n",
    "# Save to CSV for further analysis\n",
    "df.to_csv(\"world_cup_players_all_years.csv\", index=False)\n",
    "print(\"Data scraping completed and saved to 'world_cup_players_all_years.csv'\")\n"
   ]
  },
  {
   "cell_type": "code",
   "execution_count": 23,
   "metadata": {},
   "outputs": [
    {
     "name": "stdout",
     "output_type": "stream",
     "text": [
      "<class 'pandas.core.frame.DataFrame'>\n",
      "RangeIndex: 11078 entries, 0 to 11077\n",
      "Data columns (total 6 columns):\n",
      " #   Column         Non-Null Count  Dtype \n",
      "---  ------         --------------  ----- \n",
      " 0   Year           11078 non-null  int64 \n",
      " 1   Name           11078 non-null  object\n",
      " 2   Position       11078 non-null  object\n",
      " 3   Date of Birth  11078 non-null  object\n",
      " 4   Caps           11078 non-null  object\n",
      " 5   Club           11078 non-null  object\n",
      "dtypes: int64(1), object(5)\n",
      "memory usage: 519.4+ KB\n"
     ]
    }
   ],
   "source": [
    "df.info()\n"
   ]
  },
  {
   "cell_type": "code",
   "execution_count": 11,
   "metadata": {},
   "outputs": [],
   "source": [
    "df.to_csv('player_info.csv', index=False)"
   ]
  },
  {
   "cell_type": "code",
   "execution_count": null,
   "metadata": {},
   "outputs": [],
   "source": []
  }
 ],
 "metadata": {
  "kernelspec": {
   "display_name": "Python 3",
   "language": "python",
   "name": "python3"
  },
  "language_info": {
   "codemirror_mode": {
    "name": "ipython",
    "version": 3
   },
   "file_extension": ".py",
   "mimetype": "text/x-python",
   "name": "python",
   "nbconvert_exporter": "python",
   "pygments_lexer": "ipython3",
   "version": "3.13.0"
  }
 },
 "nbformat": 4,
 "nbformat_minor": 2
}
