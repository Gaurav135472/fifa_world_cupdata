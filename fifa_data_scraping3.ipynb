{
 "cells": [
  {
   "cell_type": "code",
   "execution_count": 1,
   "metadata": {},
   "outputs": [],
   "source": [
    "import requests\n",
    "from bs4 import BeautifulSoup\n",
    "import pandas as pd\n",
    "import time"
   ]
  },
  {
   "cell_type": "code",
   "execution_count": null,
   "metadata": {},
   "outputs": [
    {
     "name": "stdout",
     "output_type": "stream",
     "text": [
      "Scraping data for the year: 1930\n",
      "Scraping data for the year: 1934\n",
      "Scraping data for the year: 1938\n",
      "Scraping data for the year: 1950\n",
      "Scraping data for the year: 1954\n",
      "Scraping data for the year: 1958\n",
      "Scraping data for the year: 1962\n",
      "Scraping data for the year: 1966\n",
      "Scraping data for the year: 1970\n",
      "Scraping data for the year: 1974\n",
      "Scraping data for the year: 1978\n",
      "Scraping data for the year: 1982\n",
      "Scraping data for the year: 1986\n",
      "Scraping data for the year: 1990\n",
      "Scraping data for the year: 1994\n",
      "Scraping data for the year: 1998\n",
      "Scraping data for the year: 2002\n",
      "Scraping data for the year: 2006\n",
      "Scraping data for the year: 2010\n",
      "Scraping data for the year: 2014\n",
      "Scraping data for the year: 2018\n",
      "Scraping data for the year: 2022\n",
      "Data scraping completed and saved to 'world_cup_players_all_years.csv'\n"
     ]
    }
   ],
   "source": [
    "# List of years for which we want to scrape data\n",
    "years = [1930, 1934, 1938, 1950, 1954, 1958, 1962, 1966, 1970, 1974, 1978, \n",
    "         1982, 1986, 1990, 1994, 1998, 2002, 2006, 2010, 2014, 2018, 2022]\n",
    "\n",
    "# Base URL for Wikipedia squad pages\n",
    "base_url = \"https://en.wikipedia.org/wiki/{}_FIFA_World_Cup_squads\"\n",
    "\n",
    "# Data storage\n",
    "all_player_data = []\n",
    "\n",
    "for year in years:\n",
    "    # Construct the URL for each year\n",
    "    url = base_url.format(year)\n",
    "    print(f\"Scraping data for the year: {year}\")\n",
    "    \n",
    "    # Fetch and parse the page\n",
    "    response = requests.get(url)\n",
    "    if response.status_code != 200:\n",
    "        print(f\"Failed to retrieve data for {year}. Status code: {response.status_code}\")\n",
    "        continue\n",
    "    soup = BeautifulSoup(response.text, 'html.parser')\n",
    "    \n",
    "    # Find all squad tables\n",
    "    tables = soup.find_all(\"table\", {\"class\": \"wikitable\"})\n",
    "    \n",
    "    for table in tables:\n",
    "        rows = table.find_all(\"tr\")\n",
    "        \n",
    "        for row in rows[1:]:  # Skip header\n",
    "            cols = row.find_all(\"td\")\n",
    "            if len(cols) > 3:\n",
    "                # Extract player data with the year included\n",
    "                player = {\n",
    "                    \"Year\": year,  # Add year field\n",
    "                    \"Name\": table.find('th').find('a').txt,\n",
    "                    \"Position\": cols[1].text.strip(),\n",
    "                    \"Date of Birth\": cols[2].text.strip() if len(cols) > 2 else \"N/A\",\n",
    "                    \"Caps\": cols[3].text.strip() if len(cols) > 3 else \"N/A\",\n",
    "                    \"Club\": cols[4].text.strip() if len(cols) > 4 else \"N/A\"\n",
    "                }\n",
    "                all_player_data.append(player)\n",
    "    \n",
    "    # Pause between requests to avoid overwhelming the server\n",
    "    time.sleep(1)\n",
    "\n",
    "# Convert to DataFrame\n",
    "df = pd.DataFrame(all_player_data)\n",
    "\n",
    "# Save to CSV for further analysis\n",
    "df.to_csv(\"world_cup_players_all_years.csv\", index=False)\n",
    "print(\"Data scraping completed and saved to 'world_cup_players_all_years.csv'\")\n"
   ]
  },
  {
   "cell_type": "code",
   "execution_count": 3,
   "metadata": {},
   "outputs": [
    {
     "name": "stdout",
     "output_type": "stream",
     "text": [
      "<class 'pandas.core.frame.DataFrame'>\n",
      "RangeIndex: 11078 entries, 0 to 11077\n",
      "Data columns (total 6 columns):\n",
      " #   Column         Non-Null Count  Dtype \n",
      "---  ------         --------------  ----- \n",
      " 0   Year           11078 non-null  int64 \n",
      " 1   Name           11078 non-null  object\n",
      " 2   Position       11078 non-null  object\n",
      " 3   Date of Birth  11078 non-null  object\n",
      " 4   Caps           11078 non-null  object\n",
      " 5   Club           11078 non-null  object\n",
      "dtypes: int64(1), object(5)\n",
      "memory usage: 519.4+ KB\n"
     ]
    }
   ],
   "source": [
    "df.info()\n"
   ]
  },
  {
   "cell_type": "code",
   "execution_count": 5,
   "metadata": {},
   "outputs": [
    {
     "data": {
      "text/html": [
       "<div>\n",
       "<style scoped>\n",
       "    .dataframe tbody tr th:only-of-type {\n",
       "        vertical-align: middle;\n",
       "    }\n",
       "\n",
       "    .dataframe tbody tr th {\n",
       "        vertical-align: top;\n",
       "    }\n",
       "\n",
       "    .dataframe thead th {\n",
       "        text-align: right;\n",
       "    }\n",
       "</style>\n",
       "<table border=\"1\" class=\"dataframe\">\n",
       "  <thead>\n",
       "    <tr style=\"text-align: right;\">\n",
       "      <th></th>\n",
       "      <th>Year</th>\n",
       "      <th>Name</th>\n",
       "      <th>Position</th>\n",
       "      <th>Date of Birth</th>\n",
       "      <th>Caps</th>\n",
       "      <th>Club</th>\n",
       "    </tr>\n",
       "  </thead>\n",
       "  <tbody>\n",
       "    <tr>\n",
       "      <th>0</th>\n",
       "      <td>1930</td>\n",
       "      <td></td>\n",
       "      <td>1GK</td>\n",
       "      <td>(1905-05-05)5 May 1905 (aged 25)</td>\n",
       "      <td>16</td>\n",
       "      <td>Talleres (BA)</td>\n",
       "    </tr>\n",
       "    <tr>\n",
       "      <th>1</th>\n",
       "      <td>1930</td>\n",
       "      <td></td>\n",
       "      <td>1GK</td>\n",
       "      <td>(1908-10-23)23 October 1908 (aged 21)</td>\n",
       "      <td>2</td>\n",
       "      <td>Argentino (Q)</td>\n",
       "    </tr>\n",
       "    <tr>\n",
       "      <th>2</th>\n",
       "      <td>1930</td>\n",
       "      <td></td>\n",
       "      <td>4FW</td>\n",
       "      <td>(1907-02-23)23 February 1907 (aged 23)</td>\n",
       "      <td>10</td>\n",
       "      <td>Boca Juniors</td>\n",
       "    </tr>\n",
       "    <tr>\n",
       "      <th>3</th>\n",
       "      <td>1930</td>\n",
       "      <td></td>\n",
       "      <td>2DF</td>\n",
       "      <td>(1907-02-23)23 February 1907 (aged 23)</td>\n",
       "      <td>2</td>\n",
       "      <td>Central Norte</td>\n",
       "    </tr>\n",
       "    <tr>\n",
       "      <th>4</th>\n",
       "      <td>1930</td>\n",
       "      <td></td>\n",
       "      <td>4FW</td>\n",
       "      <td>(1909-03-19)19 March 1909 (aged 21)</td>\n",
       "      <td>0</td>\n",
       "      <td>Estudiantil Porteño</td>\n",
       "    </tr>\n",
       "  </tbody>\n",
       "</table>\n",
       "</div>"
      ],
      "text/plain": [
       "   Year Name Position                           Date of Birth Caps  \\\n",
       "0  1930           1GK        (1905-05-05)5 May 1905 (aged 25)   16   \n",
       "1  1930           1GK   (1908-10-23)23 October 1908 (aged 21)    2   \n",
       "2  1930           4FW  (1907-02-23)23 February 1907 (aged 23)   10   \n",
       "3  1930           2DF  (1907-02-23)23 February 1907 (aged 23)    2   \n",
       "4  1930           4FW     (1909-03-19)19 March 1909 (aged 21)    0   \n",
       "\n",
       "                  Club  \n",
       "0        Talleres (BA)  \n",
       "1        Argentino (Q)  \n",
       "2         Boca Juniors  \n",
       "3        Central Norte  \n",
       "4  Estudiantil Porteño  "
      ]
     },
     "execution_count": 5,
     "metadata": {},
     "output_type": "execute_result"
    }
   ],
   "source": [
    "df.head()"
   ]
  },
  {
   "cell_type": "code",
   "execution_count": 4,
   "metadata": {},
   "outputs": [],
   "source": [
    "df.to_csv('player_info.csv', index=False)"
   ]
  },
  {
   "cell_type": "code",
   "execution_count": null,
   "metadata": {},
   "outputs": [],
   "source": []
  }
 ],
 "metadata": {
  "kernelspec": {
   "display_name": "Python 3",
   "language": "python",
   "name": "python3"
  },
  "language_info": {
   "codemirror_mode": {
    "name": "ipython",
    "version": 3
   },
   "file_extension": ".py",
   "mimetype": "text/x-python",
   "name": "python",
   "nbconvert_exporter": "python",
   "pygments_lexer": "ipython3",
   "version": "3.12.1"
  }
 },
 "nbformat": 4,
 "nbformat_minor": 2
}
